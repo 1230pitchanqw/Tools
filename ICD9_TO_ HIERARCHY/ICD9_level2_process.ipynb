{
 "cells": [
  {
   "cell_type": "code",
   "execution_count": 1,
   "metadata": {},
   "outputs": [],
   "source": [
    "import sys\n",
    "sys.path.insert(0, './ICD9-HIERARCHY/')\n",
    "from icd9 import ICD9\n",
    "import _pickle as pickle"
   ]
  },
  {
   "cell_type": "code",
   "execution_count": 2,
   "metadata": {},
   "outputs": [],
   "source": [
    "tree = ICD9('ICD9-HIERARCHY/codes.json')"
   ]
  },
  {
   "cell_type": "code",
   "execution_count": 3,
   "metadata": {},
   "outputs": [],
   "source": [
    "ICD9_TO_LEVEL2 = {}\n",
    "for level1 in tree.children:\n",
    "    for level2 in level1.children:\n",
    "        level2_code = level2.code\n",
    "        for level3 in level2.children:\n",
    "            level3_code = level3.code\n",
    "            ICD9_TO_LEVEL2[level3_code] = level2_code\n",
    "            for level4 in level3.children:\n",
    "                level4_code = level4.code\n",
    "                ICD9_TO_LEVEL2[level4_code] = level2_code\n",
    "                for level5 in level4.children:\n",
    "                    level5_code = level5.code\n",
    "                    ICD9_TO_LEVEL2[level5_code] = level2_code"
   ]
  },
  {
   "cell_type": "code",
   "execution_count": 4,
   "metadata": {},
   "outputs": [
    {
     "data": {
      "text/plain": [
       "315"
      ]
     },
     "execution_count": 4,
     "metadata": {},
     "output_type": "execute_result"
    }
   ],
   "source": [
    "pickle.dump(ICD9_TO_LEVEL2, open(\"ICD9_TO_LEVEL2\",\"wb\"))\n",
    "len(set(ICD9_TO_LEVEL2.values()))"
   ]
  },
  {
   "cell_type": "code",
   "execution_count": null,
   "metadata": {},
   "outputs": [],
   "source": []
  }
 ],
 "metadata": {
  "kernelspec": {
   "display_name": "Python 3",
   "language": "python",
   "name": "python3"
  },
  "language_info": {
   "codemirror_mode": {
    "name": "ipython",
    "version": 3
   },
   "file_extension": ".py",
   "mimetype": "text/x-python",
   "name": "python",
   "nbconvert_exporter": "python",
   "pygments_lexer": "ipython3",
   "version": "3.7.3"
  }
 },
 "nbformat": 4,
 "nbformat_minor": 2
}

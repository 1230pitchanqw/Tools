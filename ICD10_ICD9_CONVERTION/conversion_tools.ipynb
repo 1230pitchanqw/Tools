{
 "cells": [
  {
   "cell_type": "code",
   "execution_count": 1,
   "metadata": {
    "collapsed": true
   },
   "outputs": [],
   "source": [
    "import pandas as pd\n",
    "import _pickle as pickle"
   ]
  },
  {
   "cell_type": "code",
   "execution_count": 2,
   "metadata": {
    "collapsed": true
   },
   "outputs": [],
   "source": [
    "table = pd.read_csv('./icd9toicd10cmgem.csv')\n",
    "gem_icd9toicd10 = {}\n",
    "gem_icd10toicd9 = {}\n",
    "\n",
    "for row in table.iterrows():\n",
    "    gem_icd9toicd10[row[1].icd9cm] = row[1].icd10cm\n",
    "    gem_icd10toicd9[row[1].icd10cm] = row[1].icd9cm"
   ]
  },
  {
   "cell_type": "code",
   "execution_count": 3,
   "metadata": {
    "collapsed": true
   },
   "outputs": [],
   "source": [
    "df = pd.read_excel('epicicd9toicd10.xlsx')\n",
    "\n",
    "icd10toicd9 = {}\n",
    "icd9_list = []\n",
    "icd10_list = []\n",
    "\n",
    "for index, row in df.iterrows():\n",
    "    icd9 = row.ICD9\n",
    "    icd10 = row.ICD10\n",
    "    number = row.Count\n",
    "    icd10_list.extend(icd10.split(', '))\n",
    "    icd9_list.extend(icd9.split(', '))\n",
    "\n",
    "    if ',' in icd10:\n",
    "        for c in icd10.split(', '):\n",
    "            if c in icd10toicd9:\n",
    "                icd10toicd9[c].append((icd9,number))\n",
    "            else:\n",
    "                icd10toicd9[c] = [(icd9,number)]\n",
    "    else:\n",
    "        if ',' in icd9:\n",
    "            for c in icd9.split(', '):\n",
    "                if icd10 in icd10toicd9:\n",
    "                    icd10toicd9[icd10].append((c,number))\n",
    "                else:\n",
    "                    icd10toicd9[icd10] = [(c,number)]\n",
    "        else:\n",
    "            if icd10 in icd10toicd9:\n",
    "                icd10toicd9[icd10].append((icd9,number))\n",
    "            else:\n",
    "                icd10toicd9[icd10] = [(icd9,number)]  \n",
    "                \n",
    "icd10_list = list(set(icd10_list))\n",
    "icd9_list = list(set(icd9_list))\n",
    "\n",
    "len(icd10_list), len(icd9_list)\n",
    "\n",
    "nch_icd10toicd9 = {}\n",
    "for key, value in icd10toicd9.items():\n",
    "    nch_icd10toicd9[key.replace('.','')] = sorted(value, key=lambda x: x[1], reverse=True)[0][0].replace('.','')"
   ]
  },
  {
   "cell_type": "code",
   "execution_count": 4,
   "metadata": {
    "collapsed": true
   },
   "outputs": [],
   "source": [
    "pickle.dump(nch_icd10toicd9, open('nch_icd10toicd9','wb'))\n",
    "pickle.dump(gem_icd10toicd9, open('gem_icd10toicd9','wb'))"
   ]
  },
  {
   "cell_type": "code",
   "execution_count": null,
   "metadata": {
    "collapsed": true
   },
   "outputs": [],
   "source": []
  },
  {
   "cell_type": "code",
   "execution_count": null,
   "metadata": {
    "collapsed": true
   },
   "outputs": [],
   "source": []
  },
  {
   "cell_type": "code",
   "execution_count": null,
   "metadata": {
    "collapsed": true
   },
   "outputs": [],
   "source": [
    "# search gem mapping first\n",
    "def search_similar(code):\n",
    "    length = len(code)\n",
    "    while length >=3:\n",
    "        for key, value in gem_icd10toicd9.items():\n",
    "            if key.startswith(code[:length]):\n",
    "                return key\n",
    "        length -=1\n",
    "    length = len(code)\n",
    "    while length >=3:\n",
    "        for key, value in nch_icd10toicd9.items():\n",
    "            if key.startswith(code[:length]):\n",
    "                return key\n",
    "        length -=1\n",
    "    return 'NotExist'"
   ]
  }
 ],
 "metadata": {
  "kernelspec": {
   "display_name": "Python 3",
   "language": "python",
   "name": "python3"
  },
  "language_info": {
   "codemirror_mode": {
    "name": "ipython",
    "version": 3
   },
   "file_extension": ".py",
   "mimetype": "text/x-python",
   "name": "python",
   "nbconvert_exporter": "python",
   "pygments_lexer": "ipython3",
   "version": "3.6.1"
  }
 },
 "nbformat": 4,
 "nbformat_minor": 2
}

{
 "cells": [
  {
   "cell_type": "code",
   "execution_count": 1,
   "metadata": {
    "collapsed": true
   },
   "outputs": [],
   "source": [
    "import pandas as pd\n",
    "import numpy as np\n",
    "import _pickle as pickle"
   ]
  },
  {
   "cell_type": "code",
   "execution_count": 2,
   "metadata": {
    "collapsed": true
   },
   "outputs": [],
   "source": [
    "icd9_ccs = pd.read_csv('./CCS_DATA/dx_icd9_ccs.csv')\n",
    "icd10_ccs = pd.read_csv('./CCS_DATA/dx_icd10_ccs.csv')"
   ]
  },
  {
   "cell_type": "code",
   "execution_count": 3,
   "metadata": {
    "collapsed": true
   },
   "outputs": [],
   "source": [
    "def diag2ccs_process(icd9_ccs, icd10_ccs):\n",
    "    diag2ccs = {}\n",
    "\n",
    "    for code,cat in zip(icd10_ccs.ICD10, icd10_ccs.CCS):\n",
    "        cat = cat[1:-1].replace(' ','')\n",
    "        code = code[1:-1].replace(' ','')\n",
    "        diag2ccs['diag_'+code] = cat\n",
    "    \n",
    "    for code,cat in zip(icd9_ccs['ICD-9'], icd9_ccs['CCSCAT']):\n",
    "        cat = cat[1:-1].replace(' ','')\n",
    "        code = code[1:-1].replace(' ','')\n",
    "        diag2ccs['diag_'+code] = cat\n",
    "    \n",
    "    return diag2ccs"
   ]
  },
  {
   "cell_type": "code",
   "execution_count": 4,
   "metadata": {
    "collapsed": true
   },
   "outputs": [],
   "source": [
    "diag2ccs = diag2ccs_process(icd9_ccs, icd10_ccs)"
   ]
  },
  {
   "cell_type": "code",
   "execution_count": 5,
   "metadata": {
    "collapsed": true
   },
   "outputs": [],
   "source": [
    "def similar_ccs(c, diag2ccs):\n",
    "    if c[5].isdigit():\n",
    "        similar_ccs_list = [diag2ccs[j] for j in diag2ccs if c[:8] in j]\n",
    "    elif not c[5].isdigit():\n",
    "        similar_ccs_list = [diag2ccs[j] for j in diag2ccs if c[:9] in j]\n",
    "    if len(similar_ccs_list)>0:\n",
    "        return random.choice(similar_ccs_list)\n",
    "    else:\n",
    "        return \"NONE_EXIST\"\n",
    "    \n",
    "def vocab2ccs_process(vocab, diag2ccs):    \n",
    "    vocab2ccs = {}\n",
    "    for c in vocab:\n",
    "        c = c.replace('.','')\n",
    "        if c [:4] == 'diag':\n",
    "            if c in diag2ccs:\n",
    "                code2ccs[c] = diag2ccs[c]\n",
    "            else:\n",
    "                code2ccs[c] = similar_ccs(c, diag2ccs)\n",
    "\n",
    "    for c in set(code2ccs.values()):\n",
    "        ccs2int[c] = len(ccs2int)\n",
    "    \n",
    "    return vocab2ccs"
   ]
  },
  {
   "cell_type": "code",
   "execution_count": null,
   "metadata": {
    "collapsed": true
   },
   "outputs": [],
   "source": []
  }
 ],
 "metadata": {
  "kernelspec": {
   "display_name": "Python 3",
   "language": "python",
   "name": "python3"
  },
  "language_info": {
   "codemirror_mode": {
    "name": "ipython",
    "version": 3
   },
   "file_extension": ".py",
   "mimetype": "text/x-python",
   "name": "python",
   "nbconvert_exporter": "python",
   "pygments_lexer": "ipython3",
   "version": "3.6.1"
  }
 },
 "nbformat": 4,
 "nbformat_minor": 2
}

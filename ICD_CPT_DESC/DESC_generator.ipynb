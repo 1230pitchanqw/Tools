{
 "cells": [
  {
   "cell_type": "markdown",
   "metadata": {},
   "source": [
    "# PFK DESCRIPTION"
   ]
  },
  {
   "cell_type": "code",
   "execution_count": 6,
   "metadata": {},
   "outputs": [],
   "source": [
    "claims_path = \"/Users/xxz005/Desktop/Raw_Data/PFKJan09Jul17/Claims.txt\"\n",
    "PFK_PROCDESC = {}\n",
    "PFK_ICDDESC = {}\n",
    "with open(claims_path) as infile:\n",
    "    next(infile)\n",
    "    for line in infile:\n",
    "        line=line.split(\"|\")\n",
    "        icddesc = line[48]\n",
    "        icd = line[13]\n",
    "        procdesc = line[47]\n",
    "        proc = line[21]\n",
    "        if proc not in PFK_PROCDESC:\n",
    "            PFK_PROCDESC[proc] = procdesc\n",
    "        if icd not in PFK_ICDDESC:\n",
    "            PFK_ICDDESC[icd] = icddesc"
   ]
  },
  {
   "cell_type": "markdown",
   "metadata": {},
   "source": [
    "# GEM DESCRIPTION"
   ]
  },
  {
   "cell_type": "code",
   "execution_count": 18,
   "metadata": {},
   "outputs": [],
   "source": [
    "ICD10_path = \"./2018-ICD-10-Code-Descriptions/icd10cm_codes_2018.txt\"\n",
    "GEM_ICD10_DESC = {}\n",
    "with open(ICD10_path) as infile:\n",
    "    next(infile)\n",
    "    for line in infile:\n",
    "        line=line.split(\" \",1)\n",
    "        icddesc = line[1]\n",
    "        icd = line[0]\n",
    "        if icd not in GEM_ICD10_DESC:\n",
    "            GEM_ICD10_DESC[icd] = icddesc"
   ]
  },
  {
   "cell_type": "code",
   "execution_count": 20,
   "metadata": {},
   "outputs": [],
   "source": [
    "ICD9_path = \"./ICD-9-CM-v32-master-descriptions/CMS32_DESC_SHORT_DX.txt\"\n",
    "GEM_ICD9_DESC = {}\n",
    "with open(ICD9_path) as infile:\n",
    "    next(infile)\n",
    "    for line in infile:\n",
    "        line=line.split(\" \",1)\n",
    "        icddesc = line[1]\n",
    "        icd = line[0]\n",
    "        if icd not in GEM_ICD9_DESC:\n",
    "            GEM_ICD9_DESC[icd] = icddesc"
   ]
  },
  {
   "cell_type": "code",
   "execution_count": 24,
   "metadata": {},
   "outputs": [],
   "source": [
    "import _pickle as pickle\n",
    "\n",
    "pickle.dump(GEM_ICD9_DESC, open(\"GEM_ICD9_DESC\",\"wb\"))\n",
    "pickle.dump(GEM_ICD10_DESC, open(\"GEM_ICD10_DESC\",\"wb\"))\n",
    "\n",
    "pickle.dump(PFK_PROCDESC, open(\"PFK_PROCDESC\",\"wb\"))\n",
    "pickle.dump(PFK_ICDDESC, open(\"PFK_ICDDESC\",\"wb\"))"
   ]
  },
  {
   "cell_type": "code",
   "execution_count": null,
   "metadata": {
    "collapsed": true
   },
   "outputs": [],
   "source": []
  }
 ],
 "metadata": {
  "kernelspec": {
   "display_name": "Python 3",
   "language": "python",
   "name": "python3"
  },
  "language_info": {
   "codemirror_mode": {
    "name": "ipython",
    "version": 3
   },
   "file_extension": ".py",
   "mimetype": "text/x-python",
   "name": "python",
   "nbconvert_exporter": "python",
   "pygments_lexer": "ipython3",
   "version": "3.6.1"
  }
 },
 "nbformat": 4,
 "nbformat_minor": 2
}
